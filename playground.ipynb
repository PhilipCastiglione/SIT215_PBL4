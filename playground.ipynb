{
 "cells": [
  {
   "cell_type": "code",
   "execution_count": 3,
   "metadata": {},
   "outputs": [],
   "source": [
    "import random\n",
    "import pandas as pd\n",
    "pd.options.display.max_columns = None\n",
    "import numpy as np\n",
    "from sklearn.model_selection import train_test_split\n",
    "from sklearn import preprocessing"
   ]
  },
  {
   "cell_type": "code",
   "execution_count": 84,
   "metadata": {},
   "outputs": [],
   "source": [
    "raw_data = pd.read_csv('./src/data/insurance.csv')\n",
    "raw_features = pd.DataFrame(raw_data, columns=raw_data.columns.drop('charges'))\n",
    "raw_labels = pd.DataFrame(raw_data.charges)"
   ]
  },
  {
   "cell_type": "code",
   "execution_count": 85,
   "metadata": {},
   "outputs": [],
   "source": [
    "# we use this to map the categorical features into indices, we can map back later for presentation\n",
    "def extract_category_mappings(dataframe, category_columns):\n",
    "    to_map = lambda uniques: {v:k[0] for k, v in np.ndenumerate(uniques)}\n",
    "    return [(to_map(dataframe[col].unique()), col) for col in category_columns]"
   ]
  },
  {
   "cell_type": "code",
   "execution_count": 86,
   "metadata": {},
   "outputs": [],
   "source": [
    "mappings = extract_category_mappings(raw_features, ['sex', 'smoker', 'region'])"
   ]
  },
  {
   "cell_type": "code",
   "execution_count": 87,
   "metadata": {},
   "outputs": [],
   "source": [
    "# transform the categorical features to binary representations of their indices;\n",
    "# TODO: we might want to bucketize the continuous features?\n",
    "def transform_features(dataframe, mappings):\n",
    "    transformed_df = pd.DataFrame(dataframe, columns=['age', 'bmi', 'children'])\n",
    "    \n",
    "    for mapping, name in mappings:\n",
    "        for i in mapping.values():\n",
    "            transformed_df[name + str(i)] = dataframe[name].apply(lambda x: int(mapping[x] == i))\n",
    "\n",
    "    return transformed_df"
   ]
  },
  {
   "cell_type": "code",
   "execution_count": 88,
   "metadata": {},
   "outputs": [],
   "source": [
    "features = transform_features(raw_features, mappings)"
   ]
  },
  {
   "cell_type": "code",
   "execution_count": 89,
   "metadata": {},
   "outputs": [
    {
     "name": "stdout",
     "output_type": "stream",
     "text": [
      "    charges\n",
      "0  0.251611\n",
      "1  0.009636\n",
      "2  0.053115\n",
      "3  0.333010\n",
      "4  0.043816\n"
     ]
    }
   ],
   "source": [
    "scaler = preprocessing.MinMaxScaler()\n",
    "\n",
    "def normalize(series, columns, scaler):\n",
    "    return scaler.fit_transform(series[columns])\n",
    "\n",
    "def denormalize(series, columns, scaler):\n",
    "    return scaler.inverse_transform(series[columns])\n",
    "\n",
    "labels = raw_labels\n",
    "labels['charges'] = normalize(raw_labels, ['charges'], scaler)\n",
    "print(labels.head())\n"
   ]
  },
  {
   "cell_type": "code",
   "execution_count": 10,
   "metadata": {
    "scrolled": true
   },
   "outputs": [],
   "source": [
    "X_train, X_test, y_train, y_test = train_test_split(features, labels)"
   ]
  },
  {
   "cell_type": "code",
   "execution_count": 11,
   "metadata": {},
   "outputs": [
    {
     "name": "stdout",
     "output_type": "stream",
     "text": [
      "      age    bmi  children  sex0  sex1  smoker0  smoker1  region0  region1  \\\n",
      "885    32  28.93         1     0     1        1        0        0        1   \n",
      "483    51  39.50         1     1     0        0        1        1        0   \n",
      "1236   63  21.66         0     1     0        0        1        0        0   \n",
      "780    30  24.40         3     0     1        1        0        1        0   \n",
      "841    59  24.70         0     0     1        0        1        0        0   \n",
      "\n",
      "      region2  region3  \n",
      "885         0        0  \n",
      "483         0        0  \n",
      "1236        0        1  \n",
      "780         0        0  \n",
      "841         0        1  \n",
      "      age     bmi  children  sex0  sex1  smoker0  smoker1  region0  region1  \\\n",
      "1036   22  37.070         2     0     1        1        0        0        1   \n",
      "1123   27  32.395         1     1     0        0        1        0        0   \n",
      "16     52  30.780         1     1     0        0        1        0        0   \n",
      "361    35  30.500         1     0     1        0        1        1        0   \n",
      "1264   49  33.345         2     1     0        0        1        0        0   \n",
      "\n",
      "      region2  region3  \n",
      "1036        0        0  \n",
      "1123        0        1  \n",
      "16          0        1  \n",
      "361         0        0  \n",
      "1264        0        1  \n",
      "       charges\n",
      "885   0.296860\n",
      "483   0.139799\n",
      "1236  0.212742\n",
      "780   0.273547\n",
      "841   0.178808\n",
      "       charges\n",
      "1036  0.580422\n",
      "1123  0.283831\n",
      "16    0.154440\n",
      "361   0.057929\n",
      "1264  0.147634\n"
     ]
    }
   ],
   "source": [
    "print(X_train.head())\n",
    "print(X_test.head())\n",
    "print(y_train.head())\n",
    "print(y_test.head())"
   ]
  },
  {
   "cell_type": "code",
   "execution_count": 12,
   "metadata": {},
   "outputs": [],
   "source": [
    "#TODO warning, actually setting values on y_train if we run this\n",
    "#test_denormalized_labels = y_train\n",
    "#test_denormalized_labels['charges'] = denormalize(y_train, ['charges'], scaler)\n",
    "\n",
    "#print(test_denormalized_labels.head())\n",
    "\n",
    "\n",
    "\n",
    "# we probably only actually care about denormalising on predictions"
   ]
  },
  {
   "cell_type": "code",
   "execution_count": 13,
   "metadata": {},
   "outputs": [
    {
     "data": {
      "text/plain": [
       "11033"
      ]
     },
     "execution_count": 13,
     "metadata": {},
     "output_type": "execute_result"
    }
   ],
   "source": [
    "X_train.size"
   ]
  },
  {
   "cell_type": "code",
   "execution_count": 255,
   "metadata": {},
   "outputs": [],
   "source": [
    "# TODO: ending condition\n",
    "# count generations\n",
    "# cache fitnesses?\n",
    "# want to chart progress (mean and best i guess)\n",
    "class GeneticAlgorithm:\n",
    "    def __init__(self, parameters, features, labels):\n",
    "        self.population_size = parameters[\"population_size\"]\n",
    "        self.breeding_ratio = 1 / parameters[\"breeding_rate\"]\n",
    "        \n",
    "        self.features = features\n",
    "        self.labels = labels\n",
    "        self.population = pd.Series([self.random_chromosome() for i in range(self.population_size)])\n",
    "        \n",
    "    def random_chromosome(self):\n",
    "        _, shape_cols = self.features.shape\n",
    "        return [random.random() for c in range(shape_cols)]\n",
    "\n",
    "    def next_generation(self):\n",
    "        weakest, middle, parents = self.divide_population()\n",
    "        offspring = self.breed(parents)\n",
    "        self.population = pd.concat([middle, parents, offspring], ignore_index=True)\n",
    "        self.display_fitness()\n",
    "    \n",
    "    def divide_population(self):\n",
    "        parent_count = int(len(self.population) / self.breeding_ratio)\n",
    "\n",
    "        # TODO: select parents stochastically, based on fitness, rather than just taking the best ones\n",
    "        fitnesses = self.population.apply(lambda chromosome: self.chromosome_fitness(chromosome))\n",
    "        \n",
    "        parents = self.population[fitnesses.sort_values('charges')[:parent_count].index]\n",
    "        middle = self.population[fitnesses.sort_values('charges')[parent_count:-parent_count].index]\n",
    "        weakest = self.population[fitnesses.sort_values('charges')[-parent_count:].index]\n",
    "        \n",
    "        return weakest, middle, parents\n",
    "    \n",
    "    def chromosome_fitness(self, chromosome):\n",
    "        predictions = np.dot(self.features, chromosome)\n",
    "        differences = pd.DataFrame(self.labels.charges - predictions)\n",
    "        squared_differences = differences.apply(lambda diff: diff ** 2)\n",
    "        return squared_differences.sum()\n",
    "    \n",
    "    def breed(self, parents):\n",
    "        # TODO: produce offspring\n",
    "        # TODO: crossover\n",
    "        # TODO: mutation\n",
    "        return parents\n",
    "        \n",
    "    def display_fitness(self):\n",
    "        f_values = self.population.apply(lambda chromosome: self.chromosome_fitness(chromosome)).values\n",
    "        print('FITNESS - best: {:.5f}, mean: {:.5f}'.format(f_values.min(), f_values.mean()))\n",
    "    "
   ]
  },
  {
   "cell_type": "code",
   "execution_count": 256,
   "metadata": {},
   "outputs": [],
   "source": [
    "params = {\n",
    "    \"population_size\": 100,\n",
    "    \"breeding_rate\": 0.2,\n",
    "}\n",
    "\n",
    "g = GeneticAlgorithm(params, X_train, y_train)"
   ]
  },
  {
   "cell_type": "code",
   "execution_count": 257,
   "metadata": {},
   "outputs": [
    {
     "name": "stdout",
     "output_type": "stream",
     "text": [
      "FITNESS - best: 43822.23408, mean: 1163804.38591\n",
      "FITNESS - best: 43822.23408, mean: 762549.08577\n",
      "FITNESS - best: 43822.23408, mean: 490456.97012\n",
      "FITNESS - best: 43822.23408, mean: 317508.88641\n"
     ]
    }
   ],
   "source": [
    "g.next_generation()\n",
    "g.next_generation()\n",
    "g.next_generation()\n",
    "g.next_generation()"
   ]
  },
  {
   "cell_type": "code",
   "execution_count": null,
   "metadata": {},
   "outputs": [],
   "source": []
  },
  {
   "cell_type": "code",
   "execution_count": null,
   "metadata": {},
   "outputs": [],
   "source": []
  },
  {
   "cell_type": "code",
   "execution_count": 192,
   "metadata": {},
   "outputs": [],
   "source": [
    "def predict(features, weights):\n",
    "    return np.dot(features, weights)"
   ]
  },
  {
   "cell_type": "code",
   "execution_count": null,
   "metadata": {},
   "outputs": [],
   "source": []
  },
  {
   "cell_type": "code",
   "execution_count": null,
   "metadata": {},
   "outputs": [],
   "source": []
  }
 ],
 "metadata": {
  "kernelspec": {
   "display_name": "Python 3",
   "language": "python",
   "name": "python3"
  },
  "language_info": {
   "codemirror_mode": {
    "name": "ipython",
    "version": 3
   },
   "file_extension": ".py",
   "mimetype": "text/x-python",
   "name": "python",
   "nbconvert_exporter": "python",
   "pygments_lexer": "ipython3",
   "version": "3.7.0"
  }
 },
 "nbformat": 4,
 "nbformat_minor": 2
}
