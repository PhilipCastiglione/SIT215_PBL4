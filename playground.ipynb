{
 "cells": [
  {
   "cell_type": "markdown",
   "metadata": {},
   "source": [
    "## Data\n",
    "\n",
    "### Done\n",
    "\n",
    "1. load using pandas\n",
    "\n",
    "## State Representation\n",
    "\n",
    "### Done\n",
    "\n",
    "1. Transform categorical idices\n",
    "2. normalise cost\n",
    "\n",
    "### TODO\n",
    "\n",
    "1. continuous features bucketised ?\n",
    "2. weights (real values floating point numbers, normalised (?))\n",
    "\n"
   ]
  },
  {
   "cell_type": "code",
   "execution_count": 125,
   "metadata": {},
   "outputs": [],
   "source": [
    "import pandas as pd\n",
    "pd.options.display.max_columns = None\n",
    "import numpy as np\n",
    "from sklearn.model_selection import train_test_split\n",
    "from sklearn import preprocessing"
   ]
  },
  {
   "cell_type": "code",
   "execution_count": 126,
   "metadata": {},
   "outputs": [],
   "source": [
    "raw_data = pd.read_csv('./src/data/insurance.csv')\n",
    "raw_features = pd.DataFrame(raw_data, columns=raw_data.columns.drop('charges'))\n",
    "raw_labels = pd.DataFrame(raw_data.charges)"
   ]
  },
  {
   "cell_type": "code",
   "execution_count": 127,
   "metadata": {},
   "outputs": [],
   "source": [
    "# we use this to map the categorical features into indices, we can map back later for presentation\n",
    "def extract_category_mappings(dataframe, category_columns):\n",
    "    to_map = lambda uniques: {v:k[0] for k, v in np.ndenumerate(uniques)}\n",
    "    return [(to_map(dataframe[col].unique()), col) for col in category_columns]"
   ]
  },
  {
   "cell_type": "code",
   "execution_count": 128,
   "metadata": {},
   "outputs": [],
   "source": [
    "mappings = extract_category_mappings(raw_features, ['sex', 'smoker', 'region'])"
   ]
  },
  {
   "cell_type": "code",
   "execution_count": 129,
   "metadata": {},
   "outputs": [],
   "source": [
    "# transform the categorical features to binary representations of their indices;\n",
    "# we might want to bucketize the continuous features?\n",
    "def transform_features(dataframe, mappings):\n",
    "    transformed_df = pd.DataFrame(dataframe, columns=['age', 'bmi', 'children'])\n",
    "    \n",
    "    for mapping, name in mappings:\n",
    "        for i in mapping.values():\n",
    "            transformed_df[name + str(i)] = dataframe[name].apply(lambda x: int(mapping[x] == i))\n",
    "\n",
    "    return transformed_df"
   ]
  },
  {
   "cell_type": "code",
   "execution_count": 130,
   "metadata": {},
   "outputs": [],
   "source": [
    "features = transform_features(raw_features, mappings)"
   ]
  },
  {
   "cell_type": "code",
   "execution_count": 131,
   "metadata": {},
   "outputs": [
    {
     "name": "stdout",
     "output_type": "stream",
     "text": [
      "    charges\n",
      "0  0.251611\n",
      "1  0.009636\n",
      "2  0.053115\n",
      "3  0.333010\n",
      "4  0.043816\n"
     ]
    }
   ],
   "source": [
    "scaler = preprocessing.MinMaxScaler()\n",
    "\n",
    "def normalize(series, columns, scaler):\n",
    "    return scaler.fit_transform(series[columns])\n",
    "\n",
    "def denormalize(series, columns, scaler):\n",
    "    return scaler.inverse_transform(series[columns])\n",
    "\n",
    "labels = raw_labels\n",
    "labels['charges'] = normalize(raw_labels, ['charges'], scaler)\n",
    "print(labels.head())\n"
   ]
  },
  {
   "cell_type": "code",
   "execution_count": 132,
   "metadata": {
    "scrolled": true
   },
   "outputs": [],
   "source": [
    "X_train, X_test, y_train, y_test = train_test_split(features, labels)"
   ]
  },
  {
   "cell_type": "code",
   "execution_count": 133,
   "metadata": {},
   "outputs": [
    {
     "name": "stdout",
     "output_type": "stream",
     "text": [
      "     age     bmi  children  sex0  sex1  smoker0  smoker1  region0  region1  \\\n",
      "305   29  33.345         2     0     1        0        1        0        0   \n",
      "278   59  31.790         2     0     1        0        1        0        1   \n",
      "579   25  23.465         0     1     0        0        1        0        0   \n",
      "348   36  29.920         1     1     0        0        1        0        1   \n",
      "679   49  23.180         2     1     0        0        1        0        0   \n",
      "\n",
      "     region2  region3  \n",
      "305        1        0  \n",
      "278        0        0  \n",
      "579        0        1  \n",
      "348        0        0  \n",
      "679        1        0  \n",
      "      age     bmi  children  sex0  sex1  smoker0  smoker1  region0  region1  \\\n",
      "1312   34  42.900         1     0     1        0        1        1        0   \n",
      "739    29  35.500         2     0     1        1        0        1        0   \n",
      "766    47  32.300         1     0     1        0        1        1        0   \n",
      "1292   21  23.210         0     0     1        0        1        0        1   \n",
      "168    19  31.825         1     1     0        0        1        0        0   \n",
      "\n",
      "      region2  region3  \n",
      "1312        0        0  \n",
      "739         0        0  \n",
      "766         0        0  \n",
      "1292        0        0  \n",
      "168         1        0  \n",
      "      charges\n",
      "305  0.292433\n",
      "278  0.188463\n",
      "579  0.033275\n",
      "348  0.069533\n",
      "679  0.144216\n",
      "       charges\n",
      "1312  0.054501\n",
      "739   0.693768\n",
      "766   0.110791\n",
      "1292  0.006281\n",
      "168   0.025498\n"
     ]
    }
   ],
   "source": [
    "print(X_train.head())\n",
    "print(X_test.head())\n",
    "print(y_train.head())\n",
    "print(y_test.head())"
   ]
  },
  {
   "cell_type": "code",
   "execution_count": 134,
   "metadata": {},
   "outputs": [],
   "source": [
    "#TODO warning, actually setting values on y_train if we run this\n",
    "#test_denormalized_labels = y_train\n",
    "#test_denormalized_labels['charges'] = denormalize(y_train, ['charges'], scaler)\n",
    "\n",
    "#print(test_denormalized_labels.head())\n",
    "\n",
    "\n",
    "\n",
    "# we probably only actually care about denormalising on predictions"
   ]
  },
  {
   "cell_type": "code",
   "execution_count": 135,
   "metadata": {},
   "outputs": [
    {
     "data": {
      "text/html": [
       "<div>\n",
       "<style scoped>\n",
       "    .dataframe tbody tr th:only-of-type {\n",
       "        vertical-align: middle;\n",
       "    }\n",
       "\n",
       "    .dataframe tbody tr th {\n",
       "        vertical-align: top;\n",
       "    }\n",
       "\n",
       "    .dataframe thead th {\n",
       "        text-align: right;\n",
       "    }\n",
       "</style>\n",
       "<table border=\"1\" class=\"dataframe\">\n",
       "  <thead>\n",
       "    <tr style=\"text-align: right;\">\n",
       "      <th></th>\n",
       "      <th>charges</th>\n",
       "    </tr>\n",
       "  </thead>\n",
       "  <tbody>\n",
       "    <tr>\n",
       "      <th>305</th>\n",
       "      <td>0.292433</td>\n",
       "    </tr>\n",
       "    <tr>\n",
       "      <th>278</th>\n",
       "      <td>0.188463</td>\n",
       "    </tr>\n",
       "    <tr>\n",
       "      <th>579</th>\n",
       "      <td>0.033275</td>\n",
       "    </tr>\n",
       "    <tr>\n",
       "      <th>348</th>\n",
       "      <td>0.069533</td>\n",
       "    </tr>\n",
       "    <tr>\n",
       "      <th>679</th>\n",
       "      <td>0.144216</td>\n",
       "    </tr>\n",
       "  </tbody>\n",
       "</table>\n",
       "</div>"
      ],
      "text/plain": [
       "      charges\n",
       "305  0.292433\n",
       "278  0.188463\n",
       "579  0.033275\n",
       "348  0.069533\n",
       "679  0.144216"
      ]
     },
     "execution_count": 135,
     "metadata": {},
     "output_type": "execute_result"
    }
   ],
   "source": []
  },
  {
   "cell_type": "code",
   "execution_count": 136,
   "metadata": {},
   "outputs": [],
   "source": [
    "def predict(features, weights):\n",
    "    return np.dot(features, weights)"
   ]
  },
  {
   "cell_type": "code",
   "execution_count": null,
   "metadata": {},
   "outputs": [],
   "source": []
  },
  {
   "cell_type": "code",
   "execution_count": null,
   "metadata": {},
   "outputs": [],
   "source": []
  }
 ],
 "metadata": {
  "kernelspec": {
   "display_name": "Python 3",
   "language": "python",
   "name": "python3"
  },
  "language_info": {
   "codemirror_mode": {
    "name": "ipython",
    "version": 3
   },
   "file_extension": ".py",
   "mimetype": "text/x-python",
   "name": "python",
   "nbconvert_exporter": "python",
   "pygments_lexer": "ipython3",
   "version": "3.7.0"
  }
 },
 "nbformat": 4,
 "nbformat_minor": 2
}
