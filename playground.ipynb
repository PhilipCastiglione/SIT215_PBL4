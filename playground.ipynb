{
 "cells": [
  {
   "cell_type": "code",
   "execution_count": 290,
   "metadata": {},
   "outputs": [],
   "source": [
    "import random\n",
    "import pandas as pd\n",
    "pd.options.display.max_columns = None\n",
    "import numpy as np\n",
    "from sklearn.model_selection import train_test_split\n",
    "from sklearn import preprocessing"
   ]
  },
  {
   "cell_type": "code",
   "execution_count": 291,
   "metadata": {},
   "outputs": [],
   "source": [
    "raw_data = pd.read_csv('./src/data/insurance.csv')\n",
    "raw_features = pd.DataFrame(raw_data, columns=raw_data.columns.drop('charges'))\n",
    "raw_labels = pd.DataFrame(raw_data.charges)"
   ]
  },
  {
   "cell_type": "code",
   "execution_count": 292,
   "metadata": {},
   "outputs": [],
   "source": [
    "# we use this to map the categorical features into indices, we can map back later for presentation\n",
    "def extract_category_mappings(dataframe, category_columns):\n",
    "    to_map = lambda uniques: {v:k[0] for k, v in np.ndenumerate(uniques)}\n",
    "    return [(to_map(dataframe[col].unique()), col) for col in category_columns]"
   ]
  },
  {
   "cell_type": "code",
   "execution_count": 293,
   "metadata": {},
   "outputs": [],
   "source": [
    "mappings = extract_category_mappings(raw_features, ['sex', 'smoker', 'region'])"
   ]
  },
  {
   "cell_type": "code",
   "execution_count": 294,
   "metadata": {},
   "outputs": [],
   "source": [
    "# transform the categorical features to binary representations of their indices;\n",
    "# TODO: we might want to bucketize the continuous features?\n",
    "def transform_features(dataframe, mappings):\n",
    "    transformed_df = pd.DataFrame(dataframe, columns=['age', 'bmi', 'children'])\n",
    "    \n",
    "    for mapping, name in mappings:\n",
    "        for i in mapping.values():\n",
    "            transformed_df[name + str(i)] = dataframe[name].apply(lambda x: int(mapping[x] == i))\n",
    "\n",
    "    return transformed_df"
   ]
  },
  {
   "cell_type": "code",
   "execution_count": 295,
   "metadata": {},
   "outputs": [],
   "source": [
    "features = transform_features(raw_features, mappings)"
   ]
  },
  {
   "cell_type": "code",
   "execution_count": 296,
   "metadata": {},
   "outputs": [
    {
     "name": "stdout",
     "output_type": "stream",
     "text": [
      "    charges\n",
      "0  0.251611\n",
      "1  0.009636\n",
      "2  0.053115\n",
      "3  0.333010\n",
      "4  0.043816\n"
     ]
    }
   ],
   "source": [
    "scaler = preprocessing.MinMaxScaler()\n",
    "\n",
    "def normalize(series, columns, scaler):\n",
    "    return scaler.fit_transform(series[columns])\n",
    "\n",
    "def denormalize(series, columns, scaler):\n",
    "    return scaler.inverse_transform(series[columns])\n",
    "\n",
    "labels = raw_labels\n",
    "labels['charges'] = normalize(raw_labels, ['charges'], scaler)\n",
    "print(labels.head())\n"
   ]
  },
  {
   "cell_type": "code",
   "execution_count": 297,
   "metadata": {
    "scrolled": true
   },
   "outputs": [],
   "source": [
    "X_train, X_test, y_train, y_test = train_test_split(features, labels)"
   ]
  },
  {
   "cell_type": "code",
   "execution_count": 298,
   "metadata": {},
   "outputs": [
    {
     "name": "stdout",
     "output_type": "stream",
     "text": [
      "      age    bmi  children  sex0  sex1  smoker0  smoker1  region0  region1  \\\n",
      "533    37  36.19         0     0     1        0        1        0        1   \n",
      "153    42  23.37         0     1     0        1        0        0        0   \n",
      "1187   62  32.68         0     1     0        0        1        0        0   \n",
      "21     30  32.40         1     1     0        0        1        1        0   \n",
      "172    18  15.96         0     0     1        0        1        0        0   \n",
      "\n",
      "      region2  region3  \n",
      "533         0        0  \n",
      "153         0        1  \n",
      "1187        1        0  \n",
      "21          0        0  \n",
      "172         0        1  \n",
      "     age     bmi  children  sex0  sex1  smoker0  smoker1  region0  region1  \\\n",
      "367   42  24.985         2     1     0        0        1        0        0   \n",
      "430   19  33.100         0     0     1        0        1        1        0   \n",
      "255   55  25.365         3     1     0        0        1        0        0   \n",
      "352   30  27.700         0     1     0        0        1        1        0   \n",
      "327   45  36.480         2     0     1        1        0        0        0   \n",
      "\n",
      "     region2  region3  \n",
      "367        1        0  \n",
      "430        0        0  \n",
      "255        0        1  \n",
      "352        0        0  \n",
      "327        1        0  \n",
      "       charges\n",
      "533   0.288799\n",
      "153   0.300771\n",
      "1187  0.203084\n",
      "21    0.048331\n",
      "172   0.009145\n",
      "      charges\n",
      "367  0.110061\n",
      "430  0.350544\n",
      "255  0.190355\n",
      "352  0.038825\n",
      "327  0.664638\n"
     ]
    }
   ],
   "source": [
    "print(X_train.head())\n",
    "print(X_test.head())\n",
    "print(y_train.head())\n",
    "print(y_test.head())"
   ]
  },
  {
   "cell_type": "code",
   "execution_count": 299,
   "metadata": {},
   "outputs": [],
   "source": [
    "#TODO warning, actually setting values on y_train if we run this\n",
    "#test_denormalized_labels = y_train\n",
    "#test_denormalized_labels['charges'] = denormalize(y_train, ['charges'], scaler)\n",
    "\n",
    "#print(test_denormalized_labels.head())\n",
    "\n",
    "\n",
    "\n",
    "# we probably only actually care about denormalising on predictions"
   ]
  },
  {
   "cell_type": "code",
   "execution_count": 300,
   "metadata": {},
   "outputs": [
    {
     "data": {
      "text/plain": [
       "11033"
      ]
     },
     "execution_count": 300,
     "metadata": {},
     "output_type": "execute_result"
    }
   ],
   "source": [
    "X_train.size"
   ]
  },
  {
   "cell_type": "code",
   "execution_count": 310,
   "metadata": {},
   "outputs": [],
   "source": [
    "# TODO: ending condition\n",
    "# count generations\n",
    "# cache fitnesses?\n",
    "# want to chart progress (mean and best i guess)\n",
    "# TODO: use less raw python, more pandas/numpy\n",
    "class GeneticAlgorithm:\n",
    "    def __init__(self, parameters, features, labels):\n",
    "        self.population_size = parameters[\"population_size\"]\n",
    "        self.breeding_ratio = 1 / parameters[\"breeding_rate\"]\n",
    "        self.crossover_rate = parameters[\"crossover_rate\"]\n",
    "        self.mutation_rate = parameters[\"mutation_rate\"]\n",
    "        self.mutation_range = parameters[\"mutation_range\"]\n",
    "        \n",
    "        self.features = features\n",
    "        self.labels = labels\n",
    "        self.population = pd.Series([self.random_chromosome() for i in range(self.population_size)])\n",
    "        \n",
    "    def random_chromosome(self):\n",
    "        _, shape_cols = self.features.shape\n",
    "        return [random.random() for c in range(shape_cols)]\n",
    "\n",
    "    def next_generation(self):\n",
    "        weakest, middle, parents = self.divide_population()\n",
    "        offspring = self.breed(parents)\n",
    "        self.population = pd.concat([middle, parents, offspring], ignore_index=True)\n",
    "        self.display_fitness()\n",
    "    \n",
    "    def divide_population(self):\n",
    "        parent_count = int(len(self.population) / self.breeding_ratio)\n",
    "\n",
    "        # TODO: select parents stochastically, based on fitness, rather than just taking the best ones\n",
    "        fitnesses = self.population.apply(lambda chromosome: self.chromosome_fitness(chromosome))\n",
    "        \n",
    "        parents = self.population[fitnesses.sort_values('charges')[:parent_count].index]\n",
    "        middle = self.population[fitnesses.sort_values('charges')[parent_count:-parent_count].index]\n",
    "        weakest = self.population[fitnesses.sort_values('charges')[-parent_count:].index]\n",
    "        \n",
    "        return weakest, middle, parents\n",
    "    \n",
    "    def chromosome_fitness(self, chromosome):\n",
    "        predictions = np.dot(self.features, chromosome)\n",
    "        differences = pd.DataFrame(self.labels.charges - predictions)\n",
    "        squared_differences = differences.apply(lambda diff: diff ** 2)\n",
    "        return squared_differences.sum()\n",
    "    \n",
    "    def breed(self, parents):\n",
    "        pair_count = int(len(parents) / 2)\n",
    "        couples = list(zip(parents[:pair_count], parents[pair_count:]))\n",
    "\n",
    "        # if we have an uneven number of parents, the last one is a hermaphrodite\n",
    "        if len(parents) % 2 != 0:\n",
    "            couples.append((parents[-1], parents[-1]))\n",
    "        \n",
    "        children = self.crossover(couples)\n",
    "        self.mutate(children)\n",
    "        return pd.Series(children)\n",
    "\n",
    "    def crossover(self, couples):\n",
    "        children = []\n",
    "        for couple in couples:\n",
    "            p1, p2 = couple\n",
    "            if random.random() < self.crossover_rate:\n",
    "                x_point = random.randrange(0, len(p1) + 1)\n",
    "                children.append(p1[:x_point] + p2[x_point:])\n",
    "                children.append(p2[:x_point] + p1[x_point:])\n",
    "            else:\n",
    "                children.append(p1)\n",
    "                children.append(p2)\n",
    "        return children\n",
    "    \n",
    "    def mutate(self, children):\n",
    "        for child in children:\n",
    "            for feature_idx, feature in enumerate(child):\n",
    "                if random.random() < self.mutation_rate:\n",
    "                    m = random.uniform(-self.mutation_range, self.mutation_range)\n",
    "                    child[feature_idx] += m\n",
    "        return children\n",
    "        \n",
    "    def display_fitness(self):\n",
    "        f_values = self.population.apply(lambda chromosome: self.chromosome_fitness(chromosome)).values\n",
    "        print('FITNESS - best: {:.5f}, mean: {:.5f}'.format(f_values.min(), f_values.mean()))\n",
    "    "
   ]
  },
  {
   "cell_type": "code",
   "execution_count": 311,
   "metadata": {},
   "outputs": [],
   "source": [
    "params = {\n",
    "    \"population_size\": 100,\n",
    "    \"breeding_rate\": 0.2,\n",
    "    \"crossover_rate\": 0.7,\n",
    "    'mutation_rate': 0.08,\n",
    "    'mutation_range': 0.1,\n",
    "}\n",
    "\n",
    "g = GeneticAlgorithm(params, X_train, y_train)"
   ]
  },
  {
   "cell_type": "code",
   "execution_count": 312,
   "metadata": {},
   "outputs": [
    {
     "name": "stdout",
     "output_type": "stream",
     "text": [
      "FITNESS - best: 14441.20846, mean: 1030050.27208\n",
      "FITNESS - best: 14441.20846, mean: 659571.71681\n",
      "FITNESS - best: 14441.20846, mean: 418642.04237\n",
      "FITNESS - best: 13222.06651, mean: 252000.07688\n",
      "FITNESS - best: 4656.88225, mean: 153868.49970\n",
      "FITNESS - best: 951.63512, mean: 95964.03222\n",
      "FITNESS - best: 952.48621, mean: 57921.03439\n",
      "FITNESS - best: 952.48621, mean: 31325.39867\n",
      "FITNESS - best: 867.31537, mean: 13421.95084\n",
      "FITNESS - best: 541.33031, mean: 8899.25170\n",
      "FITNESS - best: 532.67126, mean: 6123.01474\n",
      "FITNESS - best: 300.52011, mean: 3798.86617\n",
      "FITNESS - best: 300.52011, mean: 2044.53377\n",
      "FITNESS - best: 262.33075, mean: 1434.33804\n",
      "FITNESS - best: 278.93178, mean: 1025.69413\n",
      "FITNESS - best: 277.73770, mean: 660.21177\n",
      "FITNESS - best: 271.96317, mean: 1035.24168\n",
      "FITNESS - best: 267.02576, mean: 972.08767\n",
      "FITNESS - best: 261.63584, mean: 406.01679\n",
      "FITNESS - best: 212.83648, mean: 381.27675\n",
      "FITNESS - best: 212.83648, mean: 354.00838\n",
      "FITNESS - best: 212.83648, mean: 295.85316\n",
      "FITNESS - best: 212.83648, mean: 370.24638\n",
      "FITNESS - best: 201.66751, mean: 258.16828\n",
      "FITNESS - best: 201.66751, mean: 438.46023\n",
      "FITNESS - best: 188.22181, mean: 344.87676\n",
      "FITNESS - best: 188.22181, mean: 437.33110\n",
      "FITNESS - best: 182.06750, mean: 369.18723\n",
      "FITNESS - best: 182.06750, mean: 1007.43751\n",
      "FITNESS - best: 181.53815, mean: 510.59868\n",
      "FITNESS - best: 165.06864, mean: 655.65585\n",
      "FITNESS - best: 161.09405, mean: 324.83618\n",
      "FITNESS - best: 161.09405, mean: 434.85221\n",
      "FITNESS - best: 161.09405, mean: 357.04222\n",
      "FITNESS - best: 159.73782, mean: 300.84738\n",
      "FITNESS - best: 158.13643, mean: 192.76970\n",
      "FITNESS - best: 152.94404, mean: 286.53632\n",
      "FITNESS - best: 152.73608, mean: 190.40553\n",
      "FITNESS - best: 150.32482, mean: 413.75709\n",
      "FITNESS - best: 148.45482, mean: 224.01924\n",
      "FITNESS - best: 144.39984, mean: 470.22069\n",
      "FITNESS - best: 144.39984, mean: 677.97092\n",
      "FITNESS - best: 144.04995, mean: 287.04359\n",
      "FITNESS - best: 144.04995, mean: 431.49206\n",
      "FITNESS - best: 144.04995, mean: 401.88886\n",
      "FITNESS - best: 140.51730, mean: 269.41423\n",
      "FITNESS - best: 137.08261, mean: 494.48783\n",
      "FITNESS - best: 134.73741, mean: 150.85455\n",
      "FITNESS - best: 134.73741, mean: 185.14193\n",
      "FITNESS - best: 129.21263, mean: 304.73755\n",
      "FITNESS - best: 129.21263, mean: 298.63795\n",
      "FITNESS - best: 129.21263, mean: 485.68732\n",
      "FITNESS - best: 129.21263, mean: 654.35508\n",
      "FITNESS - best: 127.31267, mean: 225.17263\n",
      "FITNESS - best: 127.31267, mean: 136.40134\n",
      "FITNESS - best: 125.86690, mean: 294.07297\n",
      "FITNESS - best: 124.16969, mean: 238.20406\n",
      "FITNESS - best: 124.16969, mean: 255.42560\n",
      "FITNESS - best: 124.16969, mean: 382.27837\n",
      "FITNESS - best: 121.00494, mean: 479.34514\n",
      "FITNESS - best: 121.00494, mean: 976.61521\n",
      "FITNESS - best: 120.90228, mean: 257.35533\n",
      "FITNESS - best: 120.40988, mean: 159.48479\n",
      "FITNESS - best: 119.03106, mean: 259.01624\n",
      "FITNESS - best: 119.03106, mean: 379.88832\n",
      "FITNESS - best: 119.03106, mean: 391.87186\n",
      "FITNESS - best: 119.03106, mean: 123.23367\n",
      "FITNESS - best: 119.03106, mean: 371.49001\n",
      "FITNESS - best: 119.03106, mean: 170.66033\n",
      "FITNESS - best: 118.95220, mean: 574.06834\n",
      "FITNESS - best: 118.85311, mean: 193.49691\n",
      "FITNESS - best: 118.29859, mean: 178.76587\n",
      "FITNESS - best: 118.29859, mean: 246.47305\n",
      "FITNESS - best: 118.05695, mean: 277.49072\n",
      "FITNESS - best: 118.05683, mean: 466.64592\n",
      "FITNESS - best: 115.14371, mean: 119.59603\n",
      "FITNESS - best: 113.00518, mean: 385.01274\n",
      "FITNESS - best: 113.00518, mean: 191.61449\n",
      "FITNESS - best: 113.00518, mean: 174.16521\n",
      "FITNESS - best: 112.96934, mean: 118.71818\n",
      "FITNESS - best: 112.69419, mean: 489.95977\n",
      "FITNESS - best: 112.61195, mean: 255.68301\n",
      "FITNESS - best: 112.45941, mean: 128.00154\n",
      "FITNESS - best: 112.45941, mean: 228.63660\n",
      "FITNESS - best: 112.45941, mean: 432.65163\n",
      "FITNESS - best: 112.45941, mean: 157.97020\n",
      "FITNESS - best: 112.41769, mean: 142.75490\n",
      "FITNESS - best: 112.41769, mean: 141.71609\n",
      "FITNESS - best: 112.41769, mean: 666.47387\n",
      "FITNESS - best: 112.25953, mean: 113.95285\n",
      "FITNESS - best: 112.18819, mean: 375.11889\n",
      "FITNESS - best: 112.18819, mean: 113.34185\n",
      "FITNESS - best: 112.18819, mean: 262.32704\n",
      "FITNESS - best: 112.18819, mean: 171.13010\n",
      "FITNESS - best: 112.07761, mean: 604.74362\n",
      "FITNESS - best: 112.07761, mean: 245.62646\n",
      "FITNESS - best: 112.14950, mean: 446.63723\n",
      "FITNESS - best: 112.14950, mean: 900.04501\n",
      "FITNESS - best: 112.14950, mean: 460.61108\n",
      "FITNESS - best: 112.11951, mean: 255.31439\n"
     ]
    }
   ],
   "source": [
    "for i in range(100):\n",
    "    g.next_generation()"
   ]
  },
  {
   "cell_type": "code",
   "execution_count": 313,
   "metadata": {},
   "outputs": [
    {
     "data": {
      "text/plain": [
       "0     [0.0030720787087652884, -0.049483931877841975,...\n",
       "1     [0.0030720787087652884, -0.049483931877841975,...\n",
       "2     [0.0030720787087652884, -0.049483931877841975,...\n",
       "3     [0.0030720787087652884, -0.049483931877841975,...\n",
       "4     [0.0030720787087652884, -0.049483931877841975,...\n",
       "5     [0.0030720787087652884, -0.049483931877841975,...\n",
       "6     [0.0030720787087652884, -0.049483931877841975,...\n",
       "7     [0.0030720787087652884, -0.049483931877841975,...\n",
       "8     [0.0030720787087652884, -0.049483931877841975,...\n",
       "9     [0.0030720787087652884, -0.049483931877841975,...\n",
       "10    [0.0030720787087652884, -0.049483931877841975,...\n",
       "11    [0.0030720787087652884, -0.049483931877841975,...\n",
       "12    [0.0030720787087652884, -0.049483931877841975,...\n",
       "13    [0.0030720787087652884, -0.049483931877841975,...\n",
       "14    [0.0030720787087652884, -0.049483931877841975,...\n",
       "15    [0.0030720787087652884, -0.049483931877841975,...\n",
       "16    [0.0030720787087652884, -0.049483931877841975,...\n",
       "17    [0.0030720787087652884, -0.049483931877841975,...\n",
       "18    [0.0030720787087652884, -0.049483931877841975,...\n",
       "19    [0.0030720787087652884, -0.049483931877841975,...\n",
       "20    [0.0030720787087652884, -0.049483931877841975,...\n",
       "21    [0.0030720787087652884, -0.049483931877841975,...\n",
       "22    [0.0030720787087652884, -0.049483931877841975,...\n",
       "23    [0.0030720787087652884, -0.049483931877841975,...\n",
       "24    [0.0030720787087652884, -0.049483931877841975,...\n",
       "25    [0.0030720787087652884, -0.049483931877841975,...\n",
       "26    [0.0030720787087652884, -0.049483931877841975,...\n",
       "27    [0.0030720787087652884, -0.049483931877841975,...\n",
       "28    [0.0030720787087652884, -0.049483931877841975,...\n",
       "29    [0.0030720787087652884, -0.049483931877841975,...\n",
       "                            ...                        \n",
       "70    [0.0030720787087652884, -0.049483931877841975,...\n",
       "71    [0.0030720787087652884, -0.049483931877841975,...\n",
       "72    [0.0030720787087652884, -0.049483931877841975,...\n",
       "73    [0.0030720787087652884, -0.012928236180168334,...\n",
       "74    [0.0030720787087652884, -0.049483931877841975,...\n",
       "75    [0.0030720787087652884, -0.049483931877841975,...\n",
       "76    [0.0030720787087652884, -0.049483931877841975,...\n",
       "77    [0.0030720787087652884, -0.049483931877841975,...\n",
       "78    [0.0030720787087652884, -0.049483931877841975,...\n",
       "79    [0.0030720787087652884, -0.049483931877841975,...\n",
       "80    [0.0030720787087652884, -0.049483931877841975,...\n",
       "81    [0.0030720787087652884, -0.049483931877841975,...\n",
       "82    [0.0030720787087652884, -0.049483931877841975,...\n",
       "83    [0.0030720787087652884, -0.049483931877841975,...\n",
       "84    [0.0030720787087652884, -0.049483931877841975,...\n",
       "85    [-0.04225311798654286, -0.049483931877841975, ...\n",
       "86    [-0.03260421587449745, -0.049483931877841975, ...\n",
       "87    [0.0030720787087652884, -0.012928236180168334,...\n",
       "88    [0.0030720787087652884, -0.049483931877841975,...\n",
       "89    [0.0030720787087652884, -0.049483931877841975,...\n",
       "90    [0.0030720787087652884, -0.049483931877841975,...\n",
       "91    [0.0030720787087652884, -0.049483931877841975,...\n",
       "92    [0.0030720787087652884, -0.049483931877841975,...\n",
       "93    [-0.027035847637347413, -0.049483931877841975,...\n",
       "94    [0.0030720787087652884, -0.049483931877841975,...\n",
       "95    [0.0030720787087652884, -0.049483931877841975,...\n",
       "96    [0.0030720787087652884, -0.049483931877841975,...\n",
       "97    [0.0030720787087652884, -0.049483931877841975,...\n",
       "98    [0.0030720787087652884, -0.049483931877841975,...\n",
       "99    [0.0030720787087652884, -0.049483931877841975,...\n",
       "Length: 100, dtype: object"
      ]
     },
     "execution_count": 313,
     "metadata": {},
     "output_type": "execute_result"
    }
   ],
   "source": [
    "g.population\n"
   ]
  },
  {
   "cell_type": "code",
   "execution_count": null,
   "metadata": {},
   "outputs": [],
   "source": []
  },
  {
   "cell_type": "code",
   "execution_count": 304,
   "metadata": {},
   "outputs": [],
   "source": [
    "def predict(features, weights):\n",
    "    return np.dot(features, weights)"
   ]
  },
  {
   "cell_type": "code",
   "execution_count": null,
   "metadata": {},
   "outputs": [],
   "source": []
  },
  {
   "cell_type": "code",
   "execution_count": null,
   "metadata": {},
   "outputs": [],
   "source": []
  }
 ],
 "metadata": {
  "kernelspec": {
   "display_name": "Python 3",
   "language": "python",
   "name": "python3"
  },
  "language_info": {
   "codemirror_mode": {
    "name": "ipython",
    "version": 3
   },
   "file_extension": ".py",
   "mimetype": "text/x-python",
   "name": "python",
   "nbconvert_exporter": "python",
   "pygments_lexer": "ipython3",
   "version": "3.7.0"
  }
 },
 "nbformat": 4,
 "nbformat_minor": 2
}
