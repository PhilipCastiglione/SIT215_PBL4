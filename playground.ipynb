{
 "cells": [
  {
   "cell_type": "code",
   "execution_count": 25,
   "metadata": {},
   "outputs": [],
   "source": [
    "# TODO - create structured project\n",
    "# comments/docs\n",
    "import random\n",
    "import pandas as pd\n",
    "pd.options.display.max_columns = None\n",
    "import numpy as np\n",
    "from sklearn.model_selection import train_test_split\n",
    "from sklearn import preprocessing"
   ]
  },
  {
   "cell_type": "code",
   "execution_count": 2,
   "metadata": {},
   "outputs": [],
   "source": [
    "raw_data = pd.read_csv('./src/data/insurance.csv')\n",
    "raw_features = pd.DataFrame(raw_data, columns=raw_data.columns.drop('charges'))\n",
    "raw_labels = pd.DataFrame(raw_data.charges)"
   ]
  },
  {
   "cell_type": "code",
   "execution_count": 3,
   "metadata": {},
   "outputs": [],
   "source": [
    "# we use this to map the categorical features into indices, we can map back later for presentation\n",
    "def extract_category_mappings(dataframe, category_columns):\n",
    "    to_map = lambda uniques: {v:k[0] for k, v in np.ndenumerate(uniques)}\n",
    "    return [(to_map(dataframe[col].unique()), col) for col in category_columns]"
   ]
  },
  {
   "cell_type": "code",
   "execution_count": 4,
   "metadata": {},
   "outputs": [],
   "source": [
    "mappings = extract_category_mappings(raw_features, ['sex', 'smoker', 'region'])"
   ]
  },
  {
   "cell_type": "code",
   "execution_count": 5,
   "metadata": {},
   "outputs": [],
   "source": [
    "\n",
    "def normalize(series, columns, scaler):\n",
    "    return scaler.fit_transform(series[columns])\n",
    "\n",
    "def denormalize(series, columns, scaler):\n",
    "    return scaler.inverse_transform(series[columns])\n"
   ]
  },
  {
   "cell_type": "code",
   "execution_count": 6,
   "metadata": {},
   "outputs": [],
   "source": [
    "age_scaler = preprocessing.MinMaxScaler()\n",
    "bmi_scaler = preprocessing.MinMaxScaler()\n",
    "scalers = [(age_scaler,'age'), (bmi_scaler,'bmi')]"
   ]
  },
  {
   "cell_type": "code",
   "execution_count": 26,
   "metadata": {},
   "outputs": [],
   "source": [
    "# transform the categorical features to binary representations of their indices;\n",
    "def transform_features(dataframe, mappings, scalers):\n",
    "    transformed_df = pd.DataFrame(dataframe, columns=['children'])\n",
    "    \n",
    "    for mapping, name in mappings:\n",
    "        for i in mapping.values():\n",
    "            transformed_df[name + str(i)] = dataframe[name].apply(lambda x: int(mapping[x] == i))\n",
    "            \n",
    "    for scaler, name in scalers:\n",
    "        transformed_df[name] = normalize(dataframe, [name], scaler)\n",
    "\n",
    "    return transformed_df"
   ]
  },
  {
   "cell_type": "code",
   "execution_count": 14,
   "metadata": {},
   "outputs": [],
   "source": [
    "features = transform_features(raw_features, mappings, scalers)"
   ]
  },
  {
   "cell_type": "code",
   "execution_count": 15,
   "metadata": {},
   "outputs": [
    {
     "name": "stdout",
     "output_type": "stream",
     "text": [
      "    charges\n",
      "0  0.251611\n",
      "1  0.009636\n",
      "2  0.053115\n",
      "3  0.333010\n",
      "4  0.043816\n"
     ]
    }
   ],
   "source": [
    "charges_scaler = preprocessing.MinMaxScaler()\n",
    "\n",
    "labels = raw_labels\n",
    "labels['charges'] = normalize(raw_labels, ['charges'], charges_scaler)\n",
    "print(labels.head())\n"
   ]
  },
  {
   "cell_type": "code",
   "execution_count": 16,
   "metadata": {
    "scrolled": true
   },
   "outputs": [],
   "source": [
    "X_train, X_test, y_train, y_test = train_test_split(features, labels)"
   ]
  },
  {
   "cell_type": "code",
   "execution_count": 17,
   "metadata": {},
   "outputs": [
    {
     "name": "stdout",
     "output_type": "stream",
     "text": [
      "      children  sex0  sex1  smoker0  smoker1  region0  region1  region2  \\\n",
      "746          2     0     1        0        1        1        0        0   \n",
      "1229         0     0     1        0        1        0        0        0   \n",
      "940          0     0     1        0        1        0        1        0   \n",
      "902          3     0     1        0        1        0        0        0   \n",
      "1180         1     1     0        0        1        0        0        0   \n",
      "\n",
      "      region3       age       bmi  \n",
      "746         0  0.347826  0.297014  \n",
      "1229        1  0.869565  0.385930  \n",
      "940         0  0.000000  0.195050  \n",
      "902         1  0.173913  0.304143  \n",
      "1180        1  0.521739  0.682405  \n",
      "      children  sex0  sex1  smoker0  smoker1  region0  region1  region2  \\\n",
      "638          0     0     1        1        0        0        0        0   \n",
      "706          0     1     0        1        0        0        1        0   \n",
      "1173         2     0     1        0        1        0        0        1   \n",
      "242          1     1     0        0        1        1        0        0   \n",
      "31           0     1     0        0        1        0        0        0   \n",
      "\n",
      "      region3       age       bmi  \n",
      "638         1  0.456522  0.281141  \n",
      "706         0  0.717391  0.594566  \n",
      "1173        0  0.434783  0.357815  \n",
      "242         0  0.804348  0.291633  \n",
      "31          1  0.000000  0.278585  \n",
      "       charges\n",
      "746   0.169453\n",
      "1229  0.172652\n",
      "940   0.000000\n",
      "902   0.056496\n",
      "1180  0.104215\n",
      "       charges\n",
      "638   0.303717\n",
      "706   0.690815\n",
      "1173  0.085173\n",
      "242   0.543321\n",
      "31    0.017180\n"
     ]
    }
   ],
   "source": [
    "print(X_train.head())\n",
    "print(X_test.head())\n",
    "print(y_train.head())\n",
    "print(y_test.head())"
   ]
  },
  {
   "cell_type": "code",
   "execution_count": 18,
   "metadata": {},
   "outputs": [],
   "source": [
    "#TODO warning, actually setting values on y_train if we run this\n",
    "#test_denormalized_labels = y_train\n",
    "#test_denormalized_labels['charges'] = denormalize(y_train, ['charges'], scaler)\n",
    "\n",
    "#print(test_denormalized_labels.head())\n",
    "\n",
    "\n",
    "\n",
    "# we probably only actually care about denormalising on predictions"
   ]
  },
  {
   "cell_type": "code",
   "execution_count": 19,
   "metadata": {},
   "outputs": [
    {
     "data": {
      "text/plain": [
       "11033"
      ]
     },
     "execution_count": 19,
     "metadata": {},
     "output_type": "execute_result"
    }
   ],
   "source": [
    "X_train.size"
   ]
  },
  {
   "cell_type": "code",
   "execution_count": 31,
   "metadata": {},
   "outputs": [],
   "source": [
    "# TODO: ending condition\n",
    "# count generations\n",
    "# cache fitnesses?\n",
    "# want to chart progress (mean and best i guess)\n",
    "# TODO: use less raw python, more pandas/numpy\n",
    "class GeneticAlgorithm:\n",
    "    def __init__(self, parameters, features, labels):\n",
    "        self.population_size = parameters[\"population_size\"]\n",
    "        self.breeding_ratio = 1 / parameters[\"breeding_rate\"]\n",
    "        self.crossover_rate = parameters[\"crossover_rate\"]\n",
    "        self.mutation_rate = parameters[\"mutation_rate\"]\n",
    "        self.mutation_range = parameters[\"mutation_range\"]\n",
    "        self.generations = parameters[\"generations\"]\n",
    "        \n",
    "        self.features = features\n",
    "        self.labels = labels\n",
    "        self.population = pd.Series([self._random_chromosome() for i in range(self.population_size)])\n",
    "        \n",
    "    def fit(self):\n",
    "        for i in range(self.generations):\n",
    "            self._next_generation()\n",
    "            self._display_fitness()\n",
    "        \n",
    "    def _random_chromosome(self):\n",
    "        _, shape_cols = self.features.shape\n",
    "        return [random.random() for c in range(shape_cols)]\n",
    "\n",
    "    def _next_generation(self):\n",
    "        weakest, middle, parents = self._divide_population()\n",
    "        offspring = self._breed(parents)\n",
    "        self.population = pd.concat([middle, parents, offspring], ignore_index=True)\n",
    "    \n",
    "    def _divide_population(self):\n",
    "        parent_count = int(len(self.population) / self.breeding_ratio)\n",
    "\n",
    "        # TODO: select parents stochastically, based on fitness, rather than just taking the best ones\n",
    "        fitnesses = self.population.apply(lambda chromosome: self._chromosome_fitness(chromosome))\n",
    "        \n",
    "        parents = self.population[fitnesses.sort_values('charges')[:parent_count].index]\n",
    "        middle = self.population[fitnesses.sort_values('charges')[parent_count:-parent_count].index]\n",
    "        weakest = self.population[fitnesses.sort_values('charges')[-parent_count:].index]\n",
    "        \n",
    "        return weakest, middle, parents\n",
    "    \n",
    "    def _chromosome_fitness(self, chromosome):\n",
    "        predictions = np.dot(self.features, chromosome)\n",
    "        differences = pd.DataFrame(self.labels.charges - predictions)\n",
    "        squared_differences = differences.apply(lambda diff: diff ** 2)\n",
    "        return squared_differences.sum()\n",
    "    \n",
    "    def _breed(self, parents):\n",
    "        pair_count = int(len(parents) / 2)\n",
    "        couples = list(zip(parents[:pair_count], parents[pair_count:]))\n",
    "\n",
    "        # if we have an uneven number of parents, the last one is a hermaphrodite\n",
    "        if len(parents) % 2 != 0:\n",
    "            couples.append((parents[-1], parents[-1]))\n",
    "        \n",
    "        children = self._crossover(couples)\n",
    "        self._mutate(children)\n",
    "        return pd.Series(children)\n",
    "\n",
    "    def _crossover(self, couples):\n",
    "        children = []\n",
    "        for couple in couples:\n",
    "            p1, p2 = couple\n",
    "            if random.random() < self.crossover_rate:\n",
    "                x_point = random.randrange(0, len(p1) + 1)\n",
    "                children.append(p1[:x_point] + p2[x_point:])\n",
    "                children.append(p2[:x_point] + p1[x_point:])\n",
    "            else:\n",
    "                children.append(p1)\n",
    "                children.append(p2)\n",
    "        return children\n",
    "    \n",
    "    def _mutate(self, children):\n",
    "        for child in children:\n",
    "            for feature_idx, feature in enumerate(child):\n",
    "                if random.random() < self.mutation_rate:\n",
    "                    m = random.uniform(-self.mutation_range, self.mutation_range)\n",
    "                    child[feature_idx] += m\n",
    "        return children\n",
    "        \n",
    "    def _display_fitness(self):\n",
    "        f_values = self.population.apply(lambda chromosome: self._chromosome_fitness(chromosome)).values\n",
    "        print('FITNESS - best: {:.5f}, mean: {:.5f}'.format(f_values.min(), f_values.mean()))\n",
    "    "
   ]
  },
  {
   "cell_type": "code",
   "execution_count": 32,
   "metadata": {},
   "outputs": [],
   "source": [
    "params = {\n",
    "    \"generations\": 100,\n",
    "    \"population_size\": 100,\n",
    "    \"breeding_rate\": 0.2,\n",
    "    \"crossover_rate\": 0.7,\n",
    "    'mutation_rate': 0.08,\n",
    "    'mutation_range': 0.1,\n",
    "}\n",
    "\n",
    "g = GeneticAlgorithm(params, X_train, y_train)"
   ]
  },
  {
   "cell_type": "code",
   "execution_count": 33,
   "metadata": {},
   "outputs": [
    {
     "name": "stdout",
     "output_type": "stream",
     "text": [
      "FITNESS - best: 1362.60467, mean: 4754.47611\n",
      "FITNESS - best: 1268.66113, mean: 3732.47375\n",
      "FITNESS - best: 1014.97307, mean: 2895.54269\n",
      "FITNESS - best: 1014.97307, mean: 2288.79706\n",
      "FITNESS - best: 552.24268, mean: 1834.64700\n",
      "FITNESS - best: 329.94506, mean: 1466.04912\n",
      "FITNESS - best: 329.94506, mean: 1206.72824\n",
      "FITNESS - best: 317.63892, mean: 988.16884\n",
      "FITNESS - best: 284.42909, mean: 822.37528\n",
      "FITNESS - best: 236.67631, mean: 668.86000\n",
      "FITNESS - best: 227.02429, mean: 527.66821\n",
      "FITNESS - best: 224.86799, mean: 418.44223\n",
      "FITNESS - best: 164.90318, mean: 343.36097\n",
      "FITNESS - best: 151.88383, mean: 291.32797\n",
      "FITNESS - best: 102.35849, mean: 259.00179\n",
      "FITNESS - best: 73.73302, mean: 224.20524\n",
      "FITNESS - best: 73.73302, mean: 192.93644\n",
      "FITNESS - best: 68.08653, mean: 163.12093\n",
      "FITNESS - best: 68.08653, mean: 135.85504\n",
      "FITNESS - best: 36.20658, mean: 114.25363\n",
      "FITNESS - best: 52.39373, mean: 97.85281\n",
      "FITNESS - best: 47.18455, mean: 82.76815\n",
      "FITNESS - best: 32.63566, mean: 73.53547\n",
      "FITNESS - best: 28.89700, mean: 65.42965\n",
      "FITNESS - best: 28.89700, mean: 59.93133\n",
      "FITNESS - best: 28.89700, mean: 53.95280\n",
      "FITNESS - best: 26.77231, mean: 48.74355\n",
      "FITNESS - best: 26.77231, mean: 44.00090\n",
      "FITNESS - best: 25.72921, mean: 38.78518\n",
      "FITNESS - best: 23.31479, mean: 39.11768\n",
      "FITNESS - best: 18.48659, mean: 33.45535\n",
      "FITNESS - best: 18.48659, mean: 29.79227\n",
      "FITNESS - best: 18.48659, mean: 28.09349\n",
      "FITNESS - best: 18.48659, mean: 26.85174\n",
      "FITNESS - best: 17.29431, mean: 25.14906\n",
      "FITNESS - best: 16.13233, mean: 23.90341\n",
      "FITNESS - best: 14.94113, mean: 23.25343\n",
      "FITNESS - best: 14.94113, mean: 21.70126\n",
      "FITNESS - best: 14.94113, mean: 20.49880\n",
      "FITNESS - best: 13.88871, mean: 19.38205\n",
      "FITNESS - best: 13.88871, mean: 18.93306\n",
      "FITNESS - best: 13.01875, mean: 18.10103\n",
      "FITNESS - best: 13.01875, mean: 16.84840\n",
      "FITNESS - best: 12.78545, mean: 16.34360\n",
      "FITNESS - best: 11.96333, mean: 15.68811\n",
      "FITNESS - best: 12.30695, mean: 14.96957\n",
      "FITNESS - best: 12.30695, mean: 14.64784\n",
      "FITNESS - best: 12.64316, mean: 14.88868\n",
      "FITNESS - best: 12.26581, mean: 14.34270\n",
      "FITNESS - best: 11.89022, mean: 13.98610\n",
      "FITNESS - best: 11.73479, mean: 14.07242\n",
      "FITNESS - best: 11.73479, mean: 14.74842\n",
      "FITNESS - best: 11.73479, mean: 13.85563\n",
      "FITNESS - best: 11.42883, mean: 14.54421\n",
      "FITNESS - best: 11.42883, mean: 13.43590\n",
      "FITNESS - best: 11.42883, mean: 14.18856\n",
      "FITNESS - best: 11.37801, mean: 13.01814\n",
      "FITNESS - best: 11.37801, mean: 13.17359\n",
      "FITNESS - best: 11.37801, mean: 12.56513\n",
      "FITNESS - best: 11.37801, mean: 12.55212\n",
      "FITNESS - best: 11.37801, mean: 12.39871\n",
      "FITNESS - best: 11.37801, mean: 13.05909\n",
      "FITNESS - best: 11.37801, mean: 12.57246\n",
      "FITNESS - best: 11.39748, mean: 13.40207\n",
      "FITNESS - best: 11.09940, mean: 12.90761\n",
      "FITNESS - best: 11.09940, mean: 12.48926\n",
      "FITNESS - best: 11.06077, mean: 12.24369\n",
      "FITNESS - best: 11.06077, mean: 12.20180\n",
      "FITNESS - best: 10.94908, mean: 12.29836\n",
      "FITNESS - best: 10.94908, mean: 11.96365\n",
      "FITNESS - best: 10.94908, mean: 12.34083\n",
      "FITNESS - best: 10.92163, mean: 12.11634\n",
      "FITNESS - best: 10.92163, mean: 11.98642\n",
      "FITNESS - best: 10.92163, mean: 12.06198\n",
      "FITNESS - best: 10.95884, mean: 11.95928\n",
      "FITNESS - best: 10.47773, mean: 11.75767\n",
      "FITNESS - best: 10.87477, mean: 11.66732\n",
      "FITNESS - best: 10.87477, mean: 12.27289\n",
      "FITNESS - best: 10.87477, mean: 11.58032\n",
      "FITNESS - best: 10.87477, mean: 12.16142\n",
      "FITNESS - best: 10.82505, mean: 11.90196\n",
      "FITNESS - best: 10.80815, mean: 11.61684\n",
      "FITNESS - best: 10.81302, mean: 11.71652\n",
      "FITNESS - best: 10.81302, mean: 11.90633\n",
      "FITNESS - best: 10.81302, mean: 11.63661\n",
      "FITNESS - best: 10.81302, mean: 12.11858\n",
      "FITNESS - best: 10.81302, mean: 11.83514\n",
      "FITNESS - best: 10.72069, mean: 11.84897\n",
      "FITNESS - best: 10.66473, mean: 12.33988\n",
      "FITNESS - best: 10.66473, mean: 11.73855\n",
      "FITNESS - best: 10.66473, mean: 11.89683\n",
      "FITNESS - best: 10.66473, mean: 11.78626\n",
      "FITNESS - best: 10.57704, mean: 11.43414\n",
      "FITNESS - best: 10.57704, mean: 11.27106\n",
      "FITNESS - best: 10.57704, mean: 11.39673\n",
      "FITNESS - best: 10.60233, mean: 11.29615\n",
      "FITNESS - best: 10.54244, mean: 15.06064\n",
      "FITNESS - best: 10.57704, mean: 11.68993\n",
      "FITNESS - best: 10.57704, mean: 11.37323\n",
      "FITNESS - best: 10.51619, mean: 11.12010\n"
     ]
    }
   ],
   "source": [
    "g.fit()"
   ]
  },
  {
   "cell_type": "code",
   "execution_count": 23,
   "metadata": {},
   "outputs": [
    {
     "data": {
      "text/plain": [
       "0     [0.010148593157507733, -0.033089464140898445, ...\n",
       "1     [0.010148593157507733, -0.033089464140898445, ...\n",
       "2     [0.010148593157507733, -0.033089464140898445, ...\n",
       "3     [0.010148593157507733, -0.033089464140898445, ...\n",
       "4     [0.010148593157507733, -0.033089464140898445, ...\n",
       "5     [-0.00702926748408033, -0.033089464140898445, ...\n",
       "6     [-0.00702926748408033, -0.033089464140898445, ...\n",
       "7     [-0.00702926748408033, -0.033089464140898445, ...\n",
       "8     [-0.00702926748408033, -0.033089464140898445, ...\n",
       "9     [-0.00702926748408033, -0.024762415891477818, ...\n",
       "10    [-0.00702926748408033, -0.024762415891477818, ...\n",
       "11    [0.010148593157507733, -0.033089464140898445, ...\n",
       "12    [0.010148593157507733, -0.033089464140898445, ...\n",
       "13    [0.010148593157507733, -0.033089464140898445, ...\n",
       "14    [0.010148593157507733, -0.033089464140898445, ...\n",
       "15    [0.010148593157507733, -0.033089464140898445, ...\n",
       "16    [0.010148593157507733, -0.033089464140898445, ...\n",
       "17    [0.010148593157507733, -0.033089464140898445, ...\n",
       "18    [0.010148593157507733, -0.033089464140898445, ...\n",
       "19    [-0.00702926748408033, -0.033089464140898445, ...\n",
       "20    [-0.00702926748408033, -0.033089464140898445, ...\n",
       "21    [-0.00702926748408033, -0.031883068761899225, ...\n",
       "22    [-0.00702926748408033, -0.031883068761899225, ...\n",
       "23    [-0.00702926748408033, -0.033089464140898445, ...\n",
       "24    [-0.00702926748408033, -0.033089464140898445, ...\n",
       "25    [-0.00702926748408033, -0.033089464140898445, ...\n",
       "26    [-0.00702926748408033, -0.033089464140898445, ...\n",
       "27    [-0.00702926748408033, -0.033089464140898445, ...\n",
       "28    [-0.00702926748408033, -0.033089464140898445, ...\n",
       "29    [-0.00702926748408033, -0.033089464140898445, ...\n",
       "                            ...                        \n",
       "70    [0.010148593157507733, -0.033089464140898445, ...\n",
       "71    [0.010148593157507733, -0.033089464140898445, ...\n",
       "72    [0.010148593157507733, -0.033089464140898445, ...\n",
       "73    [0.010148593157507733, -0.033089464140898445, ...\n",
       "74    [0.010148593157507733, -0.033089464140898445, ...\n",
       "75    [0.010148593157507733, -0.033089464140898445, ...\n",
       "76    [0.010148593157507733, -0.033089464140898445, ...\n",
       "77    [0.010148593157507733, -0.033089464140898445, ...\n",
       "78    [0.010148593157507733, -0.033089464140898445, ...\n",
       "79    [0.010148593157507733, -0.033089464140898445, ...\n",
       "80    [0.010148593157507733, -0.07083802615309143, -...\n",
       "81    [0.010148593157507733, -0.033089464140898445, ...\n",
       "82    [0.010148593157507733, -0.033089464140898445, ...\n",
       "83    [0.010148593157507733, -0.033089464140898445, ...\n",
       "84    [0.010148593157507733, -0.033089464140898445, ...\n",
       "85    [0.010148593157507733, -0.033089464140898445, ...\n",
       "86    [0.010148593157507733, -0.033089464140898445, ...\n",
       "87    [0.010148593157507733, -0.033089464140898445, ...\n",
       "88    [0.010148593157507733, -0.033089464140898445, ...\n",
       "89    [0.010148593157507733, -0.033089464140898445, ...\n",
       "90    [0.010148593157507733, -0.033089464140898445, ...\n",
       "91    [0.010148593157507733, -0.033089464140898445, ...\n",
       "92    [0.010148593157507733, -0.033089464140898445, ...\n",
       "93    [0.010148593157507733, -0.033089464140898445, ...\n",
       "94    [0.009883625808944925, -0.033089464140898445, ...\n",
       "95    [0.010148593157507733, -0.033089464140898445, ...\n",
       "96    [0.010148593157507733, 0.04302073571661574, -0...\n",
       "97    [0.010148593157507733, -0.033089464140898445, ...\n",
       "98    [0.010148593157507733, -0.033089464140898445, ...\n",
       "99    [0.010148593157507733, -0.033089464140898445, ...\n",
       "Length: 100, dtype: object"
      ]
     },
     "execution_count": 23,
     "metadata": {},
     "output_type": "execute_result"
    }
   ],
   "source": [
    "g.population\n"
   ]
  },
  {
   "cell_type": "code",
   "execution_count": 24,
   "metadata": {},
   "outputs": [
    {
     "data": {
      "text/plain": [
       "[0.010148593157507733,\n",
       " -0.033089464140898445,\n",
       " -0.024001181039204837,\n",
       " 0.18197679422346424,\n",
       " -0.15446819992853655,\n",
       " 0.2023156256168494,\n",
       " 0.2155223946397454,\n",
       " 0.2140229233698855,\n",
       " 0.22091328315045083,\n",
       " 0.14682588950353004,\n",
       " 0.05934405821703646]"
      ]
     },
     "execution_count": 24,
     "metadata": {},
     "output_type": "execute_result"
    }
   ],
   "source": [
    "g.population[0]"
   ]
  },
  {
   "cell_type": "code",
   "execution_count": 304,
   "metadata": {},
   "outputs": [],
   "source": [
    "def predict(features, weights):\n",
    "    return np.dot(features, weights)"
   ]
  },
  {
   "cell_type": "code",
   "execution_count": null,
   "metadata": {},
   "outputs": [],
   "source": []
  },
  {
   "cell_type": "code",
   "execution_count": null,
   "metadata": {},
   "outputs": [],
   "source": []
  }
 ],
 "metadata": {
  "kernelspec": {
   "display_name": "Python 3",
   "language": "python",
   "name": "python3"
  },
  "language_info": {
   "codemirror_mode": {
    "name": "ipython",
    "version": 3
   },
   "file_extension": ".py",
   "mimetype": "text/x-python",
   "name": "python",
   "nbconvert_exporter": "python",
   "pygments_lexer": "ipython3",
   "version": "3.7.0"
  }
 },
 "nbformat": 4,
 "nbformat_minor": 2
}
