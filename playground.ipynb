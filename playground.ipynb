{
 "cells": [
  {
   "cell_type": "markdown",
   "metadata": {},
   "source": [
    "## Data\n",
    "\n",
    "### Done\n",
    "\n",
    "1. load using pandas\n",
    "\n",
    "## State Representation\n",
    "\n",
    "### Done\n",
    "\n",
    "1. Transform categorical idices\n",
    "2. normalise cost\n",
    "\n",
    "### TODO\n",
    "\n",
    "1. continuous features bucketised ?\n",
    "2. weights (real values floating point numbers, normalised (?))\n",
    "\n"
   ]
  },
  {
   "cell_type": "code",
   "execution_count": 39,
   "metadata": {},
   "outputs": [],
   "source": [
    "import random\n",
    "import pandas as pd\n",
    "pd.options.display.max_columns = None\n",
    "import numpy as np\n",
    "from sklearn.model_selection import train_test_split\n",
    "from sklearn import preprocessing"
   ]
  },
  {
   "cell_type": "code",
   "execution_count": 40,
   "metadata": {},
   "outputs": [],
   "source": [
    "raw_data = pd.read_csv('./src/data/insurance.csv')\n",
    "raw_features = pd.DataFrame(raw_data, columns=raw_data.columns.drop('charges'))\n",
    "raw_labels = pd.DataFrame(raw_data.charges)"
   ]
  },
  {
   "cell_type": "code",
   "execution_count": 41,
   "metadata": {},
   "outputs": [],
   "source": [
    "# we use this to map the categorical features into indices, we can map back later for presentation\n",
    "def extract_category_mappings(dataframe, category_columns):\n",
    "    to_map = lambda uniques: {v:k[0] for k, v in np.ndenumerate(uniques)}\n",
    "    return [(to_map(dataframe[col].unique()), col) for col in category_columns]"
   ]
  },
  {
   "cell_type": "code",
   "execution_count": 42,
   "metadata": {},
   "outputs": [],
   "source": [
    "mappings = extract_category_mappings(raw_features, ['sex', 'smoker', 'region'])"
   ]
  },
  {
   "cell_type": "code",
   "execution_count": 43,
   "metadata": {},
   "outputs": [],
   "source": [
    "# transform the categorical features to binary representations of their indices;\n",
    "# we might want to bucketize the continuous features?\n",
    "def transform_features(dataframe, mappings):\n",
    "    transformed_df = pd.DataFrame(dataframe, columns=['age', 'bmi', 'children'])\n",
    "    \n",
    "    for mapping, name in mappings:\n",
    "        for i in mapping.values():\n",
    "            transformed_df[name + str(i)] = dataframe[name].apply(lambda x: int(mapping[x] == i))\n",
    "\n",
    "    return transformed_df"
   ]
  },
  {
   "cell_type": "code",
   "execution_count": 44,
   "metadata": {},
   "outputs": [],
   "source": [
    "features = transform_features(raw_features, mappings)"
   ]
  },
  {
   "cell_type": "code",
   "execution_count": 45,
   "metadata": {},
   "outputs": [
    {
     "name": "stdout",
     "output_type": "stream",
     "text": [
      "    charges\n",
      "0  0.251611\n",
      "1  0.009636\n",
      "2  0.053115\n",
      "3  0.333010\n",
      "4  0.043816\n"
     ]
    }
   ],
   "source": [
    "scaler = preprocessing.MinMaxScaler()\n",
    "\n",
    "def normalize(series, columns, scaler):\n",
    "    return scaler.fit_transform(series[columns])\n",
    "\n",
    "def denormalize(series, columns, scaler):\n",
    "    return scaler.inverse_transform(series[columns])\n",
    "\n",
    "labels = raw_labels\n",
    "labels['charges'] = normalize(raw_labels, ['charges'], scaler)\n",
    "print(labels.head())\n"
   ]
  },
  {
   "cell_type": "code",
   "execution_count": 46,
   "metadata": {
    "scrolled": true
   },
   "outputs": [],
   "source": [
    "X_train, X_test, y_train, y_test = train_test_split(features, labels)"
   ]
  },
  {
   "cell_type": "code",
   "execution_count": 47,
   "metadata": {},
   "outputs": [
    {
     "name": "stdout",
     "output_type": "stream",
     "text": [
      "      age     bmi  children  sex0  sex1  smoker0  smoker1  region0  region1  \\\n",
      "375    23  28.310         0     1     0        1        0        0        0   \n",
      "875    23  28.120         0     1     0        0        1        0        0   \n",
      "1043   28  25.800         0     1     0        0        1        1        0   \n",
      "987    45  27.645         1     1     0        0        1        0        0   \n",
      "61     25  33.660         4     0     1        0        1        0        1   \n",
      "\n",
      "      region2  region3  \n",
      "375         1        0  \n",
      "875         1        0  \n",
      "1043        0        0  \n",
      "987         1        0  \n",
      "61          0        0  \n",
      "      age     bmi  children  sex0  sex1  smoker0  smoker1  region0  region1  \\\n",
      "394    46  32.300         2     1     0        0        1        0        0   \n",
      "115    60  28.595         0     0     1        0        1        0        0   \n",
      "1156   19  44.880         0     0     1        1        0        0        1   \n",
      "106    19  28.400         1     1     0        0        1        1        0   \n",
      "1323   42  40.370         2     1     0        1        0        0        1   \n",
      "\n",
      "      region2  region3  \n",
      "394         0        1  \n",
      "115         0        1  \n",
      "1156        0        0  \n",
      "106         0        0  \n",
      "1323        0        0  \n",
      "       charges\n",
      "375   0.269952\n",
      "875   0.025032\n",
      "1043  0.032556\n",
      "987   0.434460\n",
      "61    0.053996\n",
      "       charges\n",
      "394   0.132312\n",
      "115   0.465104\n",
      "1156  0.616149\n",
      "106   0.019308\n",
      "1323  0.682769\n"
     ]
    }
   ],
   "source": [
    "print(X_train.head())\n",
    "print(X_test.head())\n",
    "print(y_train.head())\n",
    "print(y_test.head())"
   ]
  },
  {
   "cell_type": "code",
   "execution_count": 48,
   "metadata": {},
   "outputs": [],
   "source": [
    "#TODO warning, actually setting values on y_train if we run this\n",
    "#test_denormalized_labels = y_train\n",
    "#test_denormalized_labels['charges'] = denormalize(y_train, ['charges'], scaler)\n",
    "\n",
    "#print(test_denormalized_labels.head())\n",
    "\n",
    "\n",
    "\n",
    "# we probably only actually care about denormalising on predictions"
   ]
  },
  {
   "cell_type": "code",
   "execution_count": 49,
   "metadata": {},
   "outputs": [
    {
     "data": {
      "text/plain": [
       "11033"
      ]
     },
     "execution_count": 49,
     "metadata": {},
     "output_type": "execute_result"
    }
   ],
   "source": [
    "X_train.size"
   ]
  },
  {
   "cell_type": "code",
   "execution_count": 116,
   "metadata": {},
   "outputs": [],
   "source": [
    "class GeneticAlgorithm:\n",
    "    def __init__(self, parameters, features, labels):\n",
    "        self.parameters = parameters\n",
    "        # TODO from params\n",
    "        self.population_size = 10\n",
    "        self.features = features\n",
    "        self.labels = labels\n",
    "        self.population = [self.initial_weights() for i in range(self.population_size)]\n",
    "        \n",
    "    def initial_weights(self):\n",
    "        shape_rows, shape_cols = self.features.shape\n",
    "        random_chromosome = lambda cols: [random.random() for c in range(cols)]\n",
    "        return pd.DataFrame([random_chromosome(shape_cols) for r in range(shape_rows)], columns=self.features.columns, index=self.features.index)\n",
    "\n",
    "    def next_generation(self):\n",
    "        # move from current generation\n",
    "        pass\n",
    "    \n",
    "    def fitness(self, chromosome):\n",
    "        #foo = self.features.apply(lambda f: np.dot(f, chromosome))\n",
    "        [print(type(i)) for i in chromosome.iloc[375]]\n",
    "        #print(self.features.dot(chromosome))\n",
    "    "
   ]
  },
  {
   "cell_type": "code",
   "execution_count": 117,
   "metadata": {},
   "outputs": [
    {
     "name": "stdout",
     "output_type": "stream",
     "text": [
      "<class 'float'>\n",
      "<class 'float'>\n",
      "<class 'float'>\n",
      "<class 'float'>\n",
      "<class 'float'>\n",
      "<class 'float'>\n",
      "<class 'float'>\n",
      "<class 'float'>\n",
      "<class 'float'>\n",
      "<class 'float'>\n",
      "<class 'float'>\n"
     ]
    }
   ],
   "source": [
    "g = GeneticAlgorithm({}, X_train, y_train)\n",
    "#print(g.population[0].head())\n",
    "#print(g.features.head())\n",
    "g.fitness(g.population[0])\n",
    "#[print(type(i)) for i in g.features.iloc[375]]"
   ]
  },
  {
   "cell_type": "code",
   "execution_count": 52,
   "metadata": {},
   "outputs": [
    {
     "data": {
      "text/plain": [
       "Index(['age', 'bmi', 'children', 'sex0', 'sex1', 'smoker0', 'smoker1',\n",
       "       'region0', 'region1', 'region2', 'region3'],\n",
       "      dtype='object')"
      ]
     },
     "execution_count": 52,
     "metadata": {},
     "output_type": "execute_result"
    }
   ],
   "source": [
    "random_chromosome = lambda feature_set: [random.random() for f in features]\n",
    "[random_chromosome(feature_set) for feature_set in X_train]\n",
    "X_train.columns"
   ]
  },
  {
   "cell_type": "code",
   "execution_count": 53,
   "metadata": {},
   "outputs": [],
   "source": [
    "def predict(features, weights):\n",
    "    return np.dot(features, weights)"
   ]
  },
  {
   "cell_type": "code",
   "execution_count": 54,
   "metadata": {},
   "outputs": [
    {
     "name": "stdout",
     "output_type": "stream",
     "text": [
      "0\n",
      "1\n",
      "2\n",
      "3\n",
      "4\n",
      "5\n",
      "6\n",
      "7\n",
      "8\n",
      "9\n"
     ]
    },
    {
     "data": {
      "text/plain": [
       "[None, None, None, None, None, None, None, None, None, None]"
      ]
     },
     "execution_count": 54,
     "metadata": {},
     "output_type": "execute_result"
    }
   ],
   "source": [
    "[print(i) for i in range(10)]"
   ]
  },
  {
   "cell_type": "code",
   "execution_count": null,
   "metadata": {},
   "outputs": [],
   "source": []
  }
 ],
 "metadata": {
  "kernelspec": {
   "display_name": "Python 3",
   "language": "python",
   "name": "python3"
  },
  "language_info": {
   "codemirror_mode": {
    "name": "ipython",
    "version": 3
   },
   "file_extension": ".py",
   "mimetype": "text/x-python",
   "name": "python",
   "nbconvert_exporter": "python",
   "pygments_lexer": "ipython3",
   "version": "3.7.0"
  }
 },
 "nbformat": 4,
 "nbformat_minor": 2
}
